{
 "cells": [
  {
   "cell_type": "markdown",
   "id": "polar-muscle",
   "metadata": {},
   "source": [
    "# Requirements\n",
    "\n",
    "- Python3.5-3.8\n",
    "- Tesnorflow (`pip install tensorflow`)\n",
    "- Tensorflow Dataset (`pip install tensorflow_datasets`)\n",
    "- Requsets (`pip install requests`)\n",
    "- Easytensor (`pip install easytensor`)"
   ]
  },
  {
   "cell_type": "code",
   "execution_count": null,
   "id": "instant-review",
   "metadata": {},
   "outputs": [],
   "source": [
    "! pip install tensorflow tensorflow_datasets requests easytensor"
   ]
  },
  {
   "cell_type": "markdown",
   "id": "marine-patient",
   "metadata": {},
   "source": [
    "# Train a simple MNIST model\n",
    "Here, we will train a simple model that can classify english digits from 1 to 9. The MNIST dataset is made up of small images that are 28x28 pixels.\n",
    "\n",
    "The full explanation of how this model is trained can be found [here](https://www.tensorflow.org/datasets/keras_example)."
   ]
  },
  {
   "cell_type": "code",
   "execution_count": null,
   "id": "guilty-procurement",
   "metadata": {},
   "outputs": [],
   "source": [
    "import tensorflow as tf\n",
    "import tensorflow_datasets as tfds\n",
    "\n",
    "(ds_train, ds_test), ds_info = tfds.load(\n",
    "    'mnist',\n",
    "    split=['train', 'test'],\n",
    "    shuffle_files=True,\n",
    "    as_supervised=True,\n",
    "    with_info=True,\n",
    ")\n"
   ]
  },
  {
   "cell_type": "code",
   "execution_count": null,
   "id": "advised-bullet",
   "metadata": {},
   "outputs": [],
   "source": [
    "def normalize_img(image, label):\n",
    "  \"\"\"Normalizes images: `uint8` -> `float32`.\"\"\"\n",
    "  return tf.cast(image, tf.float32) / 255., label\n",
    "\n",
    "ds_train = ds_train.map(\n",
    "    normalize_img, num_parallel_calls=tf.data.experimental.AUTOTUNE)\n",
    "ds_train = ds_train.cache()\n",
    "ds_train = ds_train.shuffle(ds_info.splits['train'].num_examples)\n",
    "ds_train = ds_train.batch(128)\n",
    "ds_train = ds_train.prefetch(tf.data.experimental.AUTOTUNE)"
   ]
  },
  {
   "cell_type": "code",
   "execution_count": null,
   "id": "social-taxation",
   "metadata": {},
   "outputs": [],
   "source": [
    "ds_test = ds_test.map(\n",
    "    normalize_img, num_parallel_calls=tf.data.experimental.AUTOTUNE)\n",
    "ds_test = ds_test.batch(128)\n",
    "ds_test = ds_test.cache()\n",
    "ds_test = ds_test.prefetch(tf.data.experimental.AUTOTUNE)"
   ]
  },
  {
   "cell_type": "code",
   "execution_count": null,
   "id": "elect-translator",
   "metadata": {},
   "outputs": [],
   "source": [
    "model = tf.keras.models.Sequential([\n",
    "  tf.keras.layers.Flatten(input_shape=(28, 28)),\n",
    "  tf.keras.layers.Dense(128,activation='relu'),\n",
    "  tf.keras.layers.Dense(10)\n",
    "])\n",
    "model.compile(\n",
    "    optimizer=tf.keras.optimizers.Adam(0.001),\n",
    "    loss=tf.keras.losses.SparseCategoricalCrossentropy(from_logits=True),\n",
    "    metrics=[tf.keras.metrics.SparseCategoricalAccuracy()],\n",
    ")\n",
    "\n",
    "model.fit(\n",
    "    ds_train,\n",
    "    epochs=6,\n",
    "    validation_data=ds_test,\n",
    ")"
   ]
  },
  {
   "cell_type": "code",
   "execution_count": null,
   "id": "gothic-blocking",
   "metadata": {
    "scrolled": true
   },
   "outputs": [],
   "source": [
    "import os\n",
    "export_path = os.path.join(os.getcwd(), \"my_model\")\n",
    "print(\"export_path: {}\".format(export_path))\n",
    "\n",
    "tf.keras.models.save_model(\n",
    "    model,\n",
    "    export_path,\n",
    "    overwrite=True,\n",
    "    include_optimizer=True,\n",
    "    save_format=None,\n",
    "    signatures=None,\n",
    "    options=None\n",
    ")"
   ]
  },
  {
   "cell_type": "markdown",
   "id": "graduate-romania",
   "metadata": {},
   "source": [
    "# Upload to EasyTensor\n",
    "Now that we have the model exported, we can upload it to cloud and have EasyTensor serve it for us!"
   ]
  },
  {
   "cell_type": "code",
   "execution_count": null,
   "id": "median-weight",
   "metadata": {},
   "outputs": [],
   "source": [
    "import easytensor\n",
    "model_id, access_token = easytensor.upload_model(\"MNIST Model\", export_path)"
   ]
  },
  {
   "cell_type": "markdown",
   "id": "described-stuff",
   "metadata": {},
   "source": [
    "That's it! The model is now in the cloud with one line of code. Each model will have an ID and an access token. Anyone with the access token can send requests to the model, so make sure you store it somewhere safe!"
   ]
  },
  {
   "cell_type": "code",
   "execution_count": null,
   "id": "executed-welcome",
   "metadata": {},
   "outputs": [],
   "source": [
    "print(\"model ID:\", model_id)\n",
    "print(\"access token:\", access_token)"
   ]
  },
  {
   "cell_type": "markdown",
   "id": "involved-performance",
   "metadata": {},
   "source": [
    "# Use the model\n",
    "Now let's try to use the model via a simple http request. We will use a random image from the training set."
   ]
  },
  {
   "cell_type": "code",
   "execution_count": null,
   "id": "formed-wales",
   "metadata": {},
   "outputs": [],
   "source": [
    "image_batches = list(map(lambda x: x[0], ds_train)) # shape (x, 128, 28, 28, 1)\n",
    "label_batches = list(map(lambda x: x[1], ds_train)) # shape (y, 128, 28, 28, 1)\n",
    "print(\"number of image batches:\", len(image_batches))\n",
    "print(\"Each batch contains\", image_batches[0].shape[0], \"images\")\n",
    "print(\"Each image has shape\", image_batches[0][0].shape)"
   ]
  },
  {
   "cell_type": "code",
   "execution_count": null,
   "id": "controlled-bradley",
   "metadata": {},
   "outputs": [],
   "source": [
    "response = requests.post(\n",
    "    \"https://app.easytensor.com/query/\",\n",
    "    json={\n",
    "        \"instances\": [\n",
    "            # use the first picture of the first batch\n",
    "            # make it a serializable list\n",
    "            images[0][0].numpy().tolist()\n",
    "        ]\n",
    "    },\n",
    "    headers={\"accessToken\": access_token}\n",
    ")\n",
    "print(response.text)"
   ]
  }
 ],
 "metadata": {
  "kernelspec": {
   "display_name": "Python 3",
   "language": "python",
   "name": "python3"
  },
  "language_info": {
   "codemirror_mode": {
    "name": "ipython",
    "version": 3
   },
   "file_extension": ".py",
   "mimetype": "text/x-python",
   "name": "python",
   "nbconvert_exporter": "python",
   "pygments_lexer": "ipython3",
   "version": "3.8.8"
  }
 },
 "nbformat": 4,
 "nbformat_minor": 5
}

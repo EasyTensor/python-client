{
 "cells": [
  {
   "cell_type": "markdown",
   "id": "polar-muscle",
   "metadata": {},
   "source": [
    "# Requirements\n",
    "\n",
    "- Python3.5-3.8\n",
    "- Tesnorflow (`pip install tensorflow`)\n",
    "- Tensorflow Dataset (`pip install tensorflow_datasets`)\n",
    "- Requsets (`pip install requests`)\n",
    "- Easytensor (`pip install easytensor`)\n",
    "- Matplotlib (`pip install matplotlib`)"
   ]
  },
  {
   "cell_type": "code",
   "execution_count": null,
   "id": "instant-review",
   "metadata": {},
   "outputs": [],
   "source": [
    "! pip install tensorflow tensorflow_datasets requests easytensor matplotlib"
   ]
  },
  {
   "cell_type": "markdown",
   "id": "marine-patient",
   "metadata": {},
   "source": [
    "# Train a simple MNIST model\n",
    "Here, we will train a simple model that can classify english digits from 1 to 9. The MNIST dataset is made up of small images that are 28x28 pixels.\n",
    "\n",
    "The full explanation of how this model is trained can be found [here](https://www.tensorflow.org/datasets/keras_example)."
   ]
  },
  {
   "cell_type": "code",
   "execution_count": 1,
   "id": "guilty-procurement",
   "metadata": {},
   "outputs": [],
   "source": [
    "import tensorflow as tf\n",
    "import tensorflow_datasets as tfds\n",
    "\n",
    "(ds_train, ds_test), ds_info = tfds.load(\n",
    "    'mnist',\n",
    "    split=['train', 'test'],\n",
    "    shuffle_files=True,\n",
    "    as_supervised=True,\n",
    "    with_info=True,\n",
    ")\n"
   ]
  },
  {
   "cell_type": "code",
   "execution_count": 2,
   "id": "advised-bullet",
   "metadata": {},
   "outputs": [],
   "source": [
    "def normalize_img(image, label):\n",
    "  \"\"\"Normalizes images: `uint8` -> `float32`.\"\"\"\n",
    "  return tf.cast(image, tf.float32) / 255., label\n",
    "\n",
    "ds_train = ds_train.map(\n",
    "    normalize_img, num_parallel_calls=tf.data.experimental.AUTOTUNE)\n",
    "ds_train = ds_train.cache()\n",
    "ds_train = ds_train.shuffle(ds_info.splits['train'].num_examples)\n",
    "ds_train = ds_train.batch(128)\n",
    "ds_train = ds_train.prefetch(tf.data.experimental.AUTOTUNE)"
   ]
  },
  {
   "cell_type": "markdown",
   "id": "leading-biography",
   "metadata": {},
   "source": [
    "#### Visualizing the data\n",
    "The data is made up of batches of small digit images from 0 to 9. Here is an example!"
   ]
  },
  {
   "cell_type": "code",
   "execution_count": 4,
   "id": "existing-radius",
   "metadata": {},
   "outputs": [
    {
     "name": "stdout",
     "output_type": "stream",
     "text": [
      "number of image batches: 469\n",
      "Each batch contains 128 images\n",
      "Each image has shape (28, 28, 1)\n"
     ]
    }
   ],
   "source": [
    "image_label_tuples = list(map(lambda x: (x[0], x[1]), ds_train)) \n",
    "image_batches = list(map(lambda x: x[0], image_label_tuples)) # shape (x, 128, 28, 28, 1)\n",
    "label_batches = list(map(lambda x: x[1], image_label_tuples)) # shape (x, 128, 1)\n",
    "print(\"number of image batches:\", len(image_batches))\n",
    "print(\"Each batch contains\", image_batches[0].shape[0], \"images\")\n",
    "print(\"Each image has shape\", image_batches[0][0].shape)"
   ]
  },
  {
   "cell_type": "code",
   "execution_count": 5,
   "id": "rural-adoption",
   "metadata": {},
   "outputs": [
    {
     "name": "stdout",
     "output_type": "stream",
     "text": [
      "Image to send:\n"
     ]
    },
    {
     "data": {
      "image/png": "[encoded data removed]",
      "text/plain": [
       "<Figure size 432x288 with 1 Axes>"
      ]
     },
     "metadata": {
      "needs_background": "light"
     },
     "output_type": "display_data"
    }
   ],
   "source": [
    "import matplotlib.pyplot as plt\n",
    "fig = plt.figure\n",
    "plt.imshow(image_batches[0][0], cmap='gray')\n",
    "print(\"Image to send:\")\n",
    "plt.show()\n"
   ]
  },
  {
   "cell_type": "code",
   "execution_count": 6,
   "id": "social-taxation",
   "metadata": {},
   "outputs": [],
   "source": [
    "ds_test = ds_test.map(\n",
    "    normalize_img, num_parallel_calls=tf.data.experimental.AUTOTUNE)\n",
    "ds_test = ds_test.batch(128)\n",
    "ds_test = ds_test.cache()\n",
    "ds_test = ds_test.prefetch(tf.data.experimental.AUTOTUNE)"
   ]
  },
  {
   "cell_type": "code",
   "execution_count": 7,
   "id": "elect-translator",
   "metadata": {},
   "outputs": [
    {
     "name": "stdout",
     "output_type": "stream",
     "text": [
      "Epoch 1/6\n",
      "469/469 [==============================] - 2s 3ms/step - loss: 0.6211 - sparse_categorical_accuracy: 0.8326 - val_loss: 0.1925 - val_sparse_categorical_accuracy: 0.9451\n",
      "Epoch 2/6\n",
      "469/469 [==============================] - 1s 2ms/step - loss: 0.1731 - sparse_categorical_accuracy: 0.9499 - val_loss: 0.1355 - val_sparse_categorical_accuracy: 0.9590\n",
      "Epoch 3/6\n",
      "469/469 [==============================] - 1s 2ms/step - loss: 0.1241 - sparse_categorical_accuracy: 0.9647 - val_loss: 0.1128 - val_sparse_categorical_accuracy: 0.9661\n",
      "Epoch 4/6\n",
      "469/469 [==============================] - 1s 2ms/step - loss: 0.0973 - sparse_categorical_accuracy: 0.9722 - val_loss: 0.0991 - val_sparse_categorical_accuracy: 0.9702\n",
      "Epoch 5/6\n",
      "469/469 [==============================] - 1s 2ms/step - loss: 0.0768 - sparse_categorical_accuracy: 0.9785 - val_loss: 0.0951 - val_sparse_categorical_accuracy: 0.9704\n",
      "Epoch 6/6\n",
      "469/469 [==============================] - 1s 2ms/step - loss: 0.0637 - sparse_categorical_accuracy: 0.9804 - val_loss: 0.0798 - val_sparse_categorical_accuracy: 0.9753\n"
     ]
    },
    {
     "data": {
      "text/plain": [
       "<tensorflow.python.keras.callbacks.History at 0x16c164580>"
      ]
     },
     "execution_count": 7,
     "metadata": {},
     "output_type": "execute_result"
    }
   ],
   "source": [
    "model = tf.keras.models.Sequential([\n",
    "  tf.keras.layers.Flatten(input_shape=(28, 28)),\n",
    "  tf.keras.layers.Dense(128,activation='relu'),\n",
    "  tf.keras.layers.Dense(10)\n",
    "])\n",
    "model.compile(\n",
    "    optimizer=tf.keras.optimizers.Adam(0.001),\n",
    "    loss=tf.keras.losses.SparseCategoricalCrossentropy(from_logits=True),\n",
    "    metrics=[tf.keras.metrics.SparseCategoricalAccuracy()],\n",
    ")\n",
    "\n",
    "model.fit(\n",
    "    ds_train,\n",
    "    epochs=6,\n",
    "    validation_data=ds_test,\n",
    ")"
   ]
  },
  {
   "cell_type": "code",
   "execution_count": 8,
   "id": "gothic-blocking",
   "metadata": {
    "scrolled": true
   },
   "outputs": [
    {
     "name": "stdout",
     "output_type": "stream",
     "text": [
      "export_path: /Users/kamalkamalaldin/repos/python-client/docs/examples/my_model\n",
      "INFO:tensorflow:Assets written to: /Users/kamalkamalaldin/repos/python-client/docs/examples/my_model/assets\n"
     ]
    },
    {
     "name": "stderr",
     "output_type": "stream",
     "text": [
      "INFO:tensorflow:Assets written to: /Users/kamalkamalaldin/repos/python-client/docs/examples/my_model/assets\n"
     ]
    }
   ],
   "source": [
    "import os\n",
    "export_path = os.path.join(os.getcwd(), \"my_model\")\n",
    "print(\"export_path: {}\".format(export_path))\n",
    "\n",
    "tf.keras.models.save_model(\n",
    "    model,\n",
    "    export_path,\n",
    "    overwrite=True,\n",
    "    include_optimizer=True,\n",
    "    save_format=None,\n",
    "    signatures=None,\n",
    "    options=None\n",
    ")"
   ]
  },
  {
   "cell_type": "markdown",
   "id": "graduate-romania",
   "metadata": {},
   "source": [
    "# Upload to EasyTensor\n",
    "Now that we have the model exported, we can upload it to cloud and have EasyTensor serve it for us!"
   ]
  },
  {
   "cell_type": "code",
   "execution_count": 12,
   "id": "median-weight",
   "metadata": {},
   "outputs": [
    {
     "name": "stdout",
     "output_type": "stream",
     "text": [
      "Access token is expired. Please reauthenticate.\n",
      "Username: kamal@easytensor.com\n",
      "Password: ········\n"
     ]
    }
   ],
   "source": [
    "import easytensor\n",
    "# easytensor.set_base_url(\"http://app.easytensor.com/\")\n",
    "model_id, access_token = easytensor.upload_model(\"Showing Joe the Model\", export_path)"
   ]
  },
  {
   "cell_type": "markdown",
   "id": "described-stuff",
   "metadata": {},
   "source": [
    "That's it! The model is now in the cloud with one line of code. Each model will have an ID and an access token. Anyone with the access token can send requests to the model, so make sure you store it somewhere safe!"
   ]
  },
  {
   "cell_type": "code",
   "execution_count": 13,
   "id": "executed-welcome",
   "metadata": {},
   "outputs": [
    {
     "name": "stdout",
     "output_type": "stream",
     "text": [
      "model ID: c13e0901-9237-42b3-98f9-99bad2353c2d\n",
      "access token: 0c485831-d746-41f7-8760-cb48c8b514eb\n"
     ]
    }
   ],
   "source": [
    "print(\"model ID:\", model_id)\n",
    "print(\"access token:\", access_token)\n",
    "access_token=\"068b3952-dc5c-4606-9c09-af1070e7f32f\""
   ]
  },
  {
   "cell_type": "markdown",
   "id": "involved-performance",
   "metadata": {},
   "source": [
    "# Use the model\n",
    "Now let's try to use the model via a simple http request. We will use a random image from the training set."
   ]
  },
  {
   "cell_type": "code",
   "execution_count": 14,
   "id": "formed-wales",
   "metadata": {},
   "outputs": [
    {
     "name": "stdout",
     "output_type": "stream",
     "text": [
      "number of image batches: 469\n",
      "Each batch contains 128 images\n",
      "Each image has shape (28, 28, 1)\n"
     ]
    }
   ],
   "source": [
    "# We need to get the label and image in the same iterator to get around shuffling.\n",
    "image_label_tuples = list(map(lambda x: (x[0], x[1]), ds_train)) \n",
    "image_batches = list(map(lambda x: x[0], image_label_tuples)) # shape (x, 128, 28, 28, 1)\n",
    "label_batches = list(map(lambda x: x[1], image_label_tuples)) # shape (x, 128, 1)\n",
    "print(\"number of image batches:\", len(image_batches))\n",
    "print(\"Each batch contains\", image_batches[0].shape[0], \"images\")\n",
    "print(\"Each image has shape\", image_batches[0][0].shape)"
   ]
  },
  {
   "cell_type": "code",
   "execution_count": 15,
   "id": "settled-trade",
   "metadata": {},
   "outputs": [
    {
     "name": "stdout",
     "output_type": "stream",
     "text": [
      "Image to send:\n"
     ]
    },
    {
     "data": {
      "image/png": "[encoded data removed]",
      "text/plain": [
       "<Figure size 432x288 with 1 Axes>"
      ]
     },
     "metadata": {
      "needs_background": "light"
     },
     "output_type": "display_data"
    }
   ],
   "source": [
    "import matplotlib.pyplot as plt\n",
    "fig = plt.figure\n",
    "plt.imshow(image_batches[0][0], cmap='gray')\n",
    "print(\"Image to send:\")\n",
    "plt.show()\n",
    "\n",
    "image_to_predict = image_batches[0][0]"
   ]
  },
  {
   "cell_type": "code",
   "execution_count": 18,
   "id": "controlled-bradley",
   "metadata": {},
   "outputs": [
    {
     "name": "stdout",
     "output_type": "stream",
     "text": [
      "Response from server:\n",
      "{\"predictions\":[[-10.4388409,5.0249939,-2.20620871,0.580625176,-3.66463208,-2.8926208,-6.41355,0.908852458,0.395605326,-0.766769]]}\n",
      "{'predictions': [[-10.4388409,\n",
      "                  5.0249939,\n",
      "                  -2.20620871,\n",
      "                  0.580625176,\n",
      "                  -3.66463208,\n",
      "                  -2.8926208,\n",
      "                  -6.41355,\n",
      "                  0.908852458,\n",
      "                  0.395605326,\n",
      "                  -0.766769]]}\n",
      "Digit prediction:  [1]\n"
     ]
    }
   ],
   "source": [
    "from pprint import pprint\n",
    "import requests\n",
    "import numpy as np\n",
    "access_token=\"068b3952-dc5c-4606-9c09-af1070e7f32f\"\n",
    "response = requests.post(\n",
    "    \"https://app.easytensor.com/query/\",\n",
    "    json={\n",
    "        \"instances\": [\n",
    "            # use the first picture of the first batch\n",
    "            # make it a serializable list\n",
    "            image_to_predict.numpy().tolist()\n",
    "        ]\n",
    "    },\n",
    "    headers={\"accessToken\": access_token}\n",
    ")\n",
    "print(\"Response from server:\")\n",
    "print(response.text)\n",
    "pprint(response.json())\n",
    "print(\"Digit prediction: \", np.array(response.json()[\"predictions\"]).argmax(axis=1))"
   ]
  },
  {
   "cell_type": "code",
   "execution_count": 19,
   "id": "genuine-sender",
   "metadata": {},
   "outputs": [
    {
     "name": "stdout",
     "output_type": "stream",
     "text": [
      "[[[0.0], [0.0], [0.0], [0.0], [0.0], [0.0], [0.0], [0.0], [0.0], [0.0], [0.0], [0.0], [0.0], [0.0], [0.0], [0.0], [0.0], [0.0], [0.0], [0.0], [0.0], [0.0], [0.0], [0.0], [0.0], [0.0], [0.0], [0.0]], [[0.0], [0.0], [0.0], [0.0], [0.0], [0.0], [0.0], [0.0], [0.0], [0.0], [0.0], [0.0], [0.0], [0.0], [0.0], [0.0], [0.0], [0.0], [0.0], [0.0], [0.0], [0.0], [0.0], [0.0], [0.0], [0.0], [0.0], [0.0]], [[0.0], [0.0], [0.0], [0.0], [0.0], [0.0], [0.0], [0.0], [0.0], [0.0], [0.0], [0.0], [0.0], [0.0], [0.0], [0.0], [0.0], [0.0], [0.0], [0.0], [0.0], [0.0], [0.0], [0.0], [0.0], [0.0], [0.0], [0.0]], [[0.0], [0.0], [0.0], [0.0], [0.0], [0.0], [0.0], [0.0], [0.0], [0.0], [0.0], [0.0], [0.0], [0.0], [0.0], [0.0], [0.0], [0.0], [0.0], [0.0], [0.0], [0.0], [0.0], [0.0], [0.0], [0.0], [0.0], [0.0]], [[0.0], [0.0], [0.0], [0.0], [0.0], [0.0], [0.0], [0.0], [0.0], [0.0], [0.0], [0.0], [0.0], [0.0], [0.0], [0.0], [0.0], [0.0], [0.0], [0.0], [0.0], [0.0], [0.0], [0.0], [0.0], [0.0], [0.0], [0.0]], [[0.0], [0.0], [0.0], [0.0], [0.0], [0.0], [0.0], [0.0], [0.0], [0.4470588266849518], [0.9921568632125854], [0.9921568632125854], [0.572549045085907], [0.0], [0.0], [0.0], [0.0], [0.0], [0.0], [0.0], [0.0], [0.0], [0.0], [0.0], [0.0], [0.0], [0.0], [0.0]], [[0.0], [0.0], [0.0], [0.0], [0.0], [0.0], [0.0], [0.0], [0.0], [0.4431372582912445], [0.9882352948188782], [0.9882352948188782], [0.9764705896377563], [0.8823529481887817], [0.0], [0.0], [0.0], [0.0], [0.0], [0.0], [0.0], [0.0], [0.0], [0.0], [0.0], [0.0], [0.0], [0.0]], [[0.0], [0.0], [0.0], [0.0], [0.0], [0.0], [0.0], [0.0], [0.0], [0.4431372582912445], [0.9882352948188782], [0.9882352948188782], [0.9882352948188782], [0.9882352948188782], [0.43529412150382996], [0.0], [0.0], [0.0], [0.0], [0.0], [0.0], [0.0], [0.0], [0.0], [0.0], [0.0], [0.0], [0.0]], [[0.0], [0.0], [0.0], [0.0], [0.0], [0.0], [0.0], [0.0], [0.0], [0.4431372582912445], [0.7019608020782471], [0.4745098054409027], [0.9882352948188782], [0.9882352948188782], [0.8470588326454163], [0.07058823853731155], [0.0], [0.0], [0.0], [0.0], [0.0], [0.0], [0.0], [0.0], [0.0], [0.0], [0.0], [0.0]], [[0.0], [0.0], [0.0], [0.0], [0.0], [0.0], [0.0], [0.0], [0.0], [0.19607843458652496], [0.0470588244497776], [0.09803921729326248], [0.8039215803146362], [0.9882352948188782], [0.9921568632125854], [0.4156862795352936], [0.0], [0.0], [0.0], [0.0], [0.0], [0.0], [0.0], [0.0], [0.0], [0.0], [0.0], [0.0]], [[0.0], [0.0], [0.0], [0.0], [0.0], [0.0], [0.0], [0.0], [0.0], [0.0], [0.0], [0.0], [0.6627451181411743], [0.9921568632125854], [1.0], [0.658823549747467], [0.0], [0.0], [0.0], [0.0], [0.0], [0.0], [0.0], [0.0], [0.0], [0.0], [0.0], [0.0]], [[0.0], [0.0], [0.0], [0.0], [0.0], [0.0], [0.0], [0.0], [0.0], [0.0], [0.0], [0.0], [0.47843137383461], [0.9882352948188782], [0.9921568632125854], [0.9529411792755127], [0.19607843458652496], [0.0], [0.0], [0.0], [0.0], [0.0], [0.0], [0.0], [0.0], [0.0], [0.0], [0.0]], [[0.0], [0.0], [0.0], [0.0], [0.0], [0.0], [0.0], [0.0], [0.0], [0.0], [0.0], [0.0], [0.11372549086809158], [0.9882352948188782], [0.9921568632125854], [0.9882352948188782], [0.21568627655506134], [0.0], [0.0], [0.0], [0.0], [0.0], [0.0], [0.0], [0.0], [0.0], [0.0], [0.0]], [[0.0], [0.0], [0.0], [0.0], [0.0], [0.0], [0.0], [0.0], [0.0], [0.0], [0.0], [0.0], [0.11372549086809158], [0.9882352948188782], [0.9921568632125854], [0.9882352948188782], [0.21568627655506134], [0.0], [0.0], [0.0], [0.0], [0.0], [0.0], [0.0], [0.0], [0.0], [0.0], [0.0]], [[0.0], [0.0], [0.0], [0.0], [0.0], [0.0], [0.0], [0.0], [0.0], [0.0], [0.0], [0.0], [0.05098039284348488], [0.7411764860153198], [0.9921568632125854], [0.9882352948188782], [0.5215686559677124], [0.0], [0.0], [0.0], [0.0], [0.0], [0.0], [0.0], [0.0], [0.0], [0.0], [0.0]], [[0.0], [0.0], [0.0], [0.0], [0.0], [0.0], [0.0], [0.0], [0.0], [0.0], [0.0], [0.0], [0.0], [0.5529412031173706], [1.0], [0.9921568632125854], [0.7686274647712708], [0.0], [0.0], [0.0], [0.0], [0.0], [0.0], [0.0], [0.0], [0.0], [0.0], [0.0]], [[0.0], [0.0], [0.0], [0.0], [0.0], [0.0], [0.0], [0.0], [0.0], [0.0], [0.0], [0.0], [0.0], [0.5490196347236633], [0.9921568632125854], [0.9882352948188782], [0.7647058963775635], [0.0], [0.0], [0.0], [0.0], [0.0], [0.0], [0.0], [0.0], [0.0], [0.0], [0.0]], [[0.0], [0.0], [0.0], [0.0], [0.0], [0.0], [0.0], [0.0], [0.0], [0.0], [0.0], [0.0], [0.0], [0.5490196347236633], [0.9921568632125854], [0.9882352948188782], [0.7647058963775635], [0.0], [0.0], [0.0], [0.0], [0.0], [0.0], [0.0], [0.0], [0.0], [0.0], [0.0]], [[0.0], [0.0], [0.0], [0.0], [0.0], [0.0], [0.0], [0.0], [0.0], [0.0], [0.0], [0.0], [0.0], [0.18431372940540314], [0.9921568632125854], [0.9882352948188782], [0.9137254953384399], [0.21960784494876862], [0.0], [0.0], [0.0], [0.0], [0.0], [0.0], [0.0], [0.0], [0.0], [0.0]], [[0.0], [0.0], [0.0], [0.0], [0.0], [0.0], [0.0], [0.0], [0.0], [0.0], [0.0], [0.0], [0.0], [0.0], [0.6823529601097107], [0.9882352948188782], [0.9882352948188782], [0.6313725709915161], [0.0], [0.0], [0.0], [0.0], [0.0], [0.0], [0.0], [0.0], [0.0], [0.0]], [[0.0], [0.0], [0.0], [0.0], [0.0], [0.0], [0.0], [0.0], [0.0], [0.0], [0.0], [0.0], [0.0], [0.0], [0.4470588266849518], [0.9921568632125854], [0.9921568632125854], [0.8823529481887817], [0.0], [0.0], [0.0], [0.0], [0.0], [0.0], [0.0], [0.0], [0.0], [0.0]], [[0.0], [0.0], [0.0], [0.0], [0.0], [0.0], [0.0], [0.0], [0.0], [0.0], [0.0], [0.0], [0.0], [0.0], [0.4431372582912445], [0.9882352948188782], [0.9882352948188782], [0.6901960968971252], [0.0], [0.0], [0.0], [0.0], [0.0], [0.0], [0.0], [0.0], [0.0], [0.0]], [[0.0], [0.0], [0.0], [0.0], [0.0], [0.0], [0.0], [0.0], [0.0], [0.0], [0.0], [0.0], [0.0], [0.0], [0.4431372582912445], [0.9882352948188782], [0.9882352948188782], [0.3294117748737335], [0.0], [0.0], [0.0], [0.0], [0.0], [0.0], [0.0], [0.0], [0.0], [0.0]], [[0.0], [0.0], [0.0], [0.0], [0.0], [0.0], [0.0], [0.0], [0.0], [0.0], [0.0], [0.0], [0.0], [0.0], [0.3960784375667572], [0.9764705896377563], [0.8392156958580017], [0.10980392247438431], [0.0], [0.0], [0.0], [0.0], [0.0], [0.0], [0.0], [0.0], [0.0], [0.0]], [[0.0], [0.0], [0.0], [0.0], [0.0], [0.0], [0.0], [0.0], [0.0], [0.0], [0.0], [0.0], [0.0], [0.0], [0.0], [0.8823529481887817], [0.4627451002597809], [0.0], [0.0], [0.0], [0.0], [0.0], [0.0], [0.0], [0.0], [0.0], [0.0], [0.0]], [[0.0], [0.0], [0.0], [0.0], [0.0], [0.0], [0.0], [0.0], [0.0], [0.0], [0.0], [0.0], [0.0], [0.0], [0.0], [0.0], [0.0], [0.0], [0.0], [0.0], [0.0], [0.0], [0.0], [0.0], [0.0], [0.0], [0.0], [0.0]], [[0.0], [0.0], [0.0], [0.0], [0.0], [0.0], [0.0], [0.0], [0.0], [0.0], [0.0], [0.0], [0.0], [0.0], [0.0], [0.0], [0.0], [0.0], [0.0], [0.0], [0.0], [0.0], [0.0], [0.0], [0.0], [0.0], [0.0], [0.0]], [[0.0], [0.0], [0.0], [0.0], [0.0], [0.0], [0.0], [0.0], [0.0], [0.0], [0.0], [0.0], [0.0], [0.0], [0.0], [0.0], [0.0], [0.0], [0.0], [0.0], [0.0], [0.0], [0.0], [0.0], [0.0], [0.0], [0.0], [0.0]]]\n"
     ]
    }
   ],
   "source": [
    "print(image_to_predict.numpy().tolist())"
   ]
  },
  {
   "cell_type": "markdown",
   "id": "turned-morgan",
   "metadata": {},
   "source": [
    "## Batch processing\n",
    "If we want, we can send multiple data samples for prediction. This is especially useful for batch processing workloads that might be running in the background."
   ]
  },
  {
   "cell_type": "code",
   "execution_count": null,
   "id": "prescribed-fisher",
   "metadata": {
    "scrolled": false
   },
   "outputs": [],
   "source": [
    "response = requests.post(\n",
    "        \"https://app.easytensor.com/query/\",\n",
    "        json={\n",
    "            \"instances\": [\n",
    "                # use the entireity of first batch\n",
    "                # make it a serializable list\n",
    "                image_batches[0].numpy().tolist()\n",
    "            ]\n",
    "        },\n",
    "        headers={\"accessToken\": access_token}\n",
    "    )\n",
    "predictions = np.array(response.json()[\"predictions\"])\n",
    "correct = 0\n",
    "for prediction, label in zip(\n",
    "    predictions.argmax(axis=1), label_batches[0]\n",
    "):\n",
    "    if prediction == label.numpy():\n",
    "        correct += 1\n",
    "print(\"{} Images were classified\".format(len(predictions)))\n",
    "print(\"Accuracy:\", correct/len(predictions))"
   ]
  }
 ],
 "metadata": {
  "kernelspec": {
   "display_name": "Python 3",
   "language": "python",
   "name": "python3"
  },
  "language_info": {
   "codemirror_mode": {
    "name": "ipython",
    "version": 3
   },
   "file_extension": ".py",
   "mimetype": "text/x-python",
   "name": "python",
   "nbconvert_exporter": "python",
   "pygments_lexer": "ipython3",
   "version": "3.8.8"
  }
 },
 "nbformat": 4,
 "nbformat_minor": 5
}
